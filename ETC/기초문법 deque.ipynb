{
 "cells": [
  {
   "cell_type": "code",
   "execution_count": 2,
   "id": "ab67418c",
   "metadata": {},
   "outputs": [
    {
     "data": {
      "text/plain": [
       "deque(['l', 'o', 'v', 'e'])"
      ]
     },
     "execution_count": 2,
     "metadata": {},
     "output_type": "execute_result"
    }
   ],
   "source": [
    "from collections import deque\n",
    "dq = deque('love')\n",
    "dq #각 문자의 요소로된 리스트형태의 deque"
   ]
  },
  {
   "cell_type": "code",
   "execution_count": 8,
   "id": "e14bf76a",
   "metadata": {},
   "outputs": [
    {
     "data": {
      "text/plain": [
       "'m'"
      ]
     },
     "execution_count": 8,
     "metadata": {},
     "output_type": "execute_result"
    }
   ],
   "source": [
    "dq.append('m')\n",
    "dq.pop()"
   ]
  },
  {
   "cell_type": "code",
   "execution_count": 27,
   "id": "393e1003",
   "metadata": {},
   "outputs": [
    {
     "data": {
      "text/plain": [
       "deque(['i', 'l', 'o', 'v'])"
      ]
     },
     "execution_count": 27,
     "metadata": {},
     "output_type": "execute_result"
    }
   ],
   "source": [
    "dq = deque('love')\n",
    "dq.appendleft('i')\n",
    "dq.pop()\n",
    "dq"
   ]
  },
  {
   "cell_type": "code",
   "execution_count": 34,
   "id": "e22f978d",
   "metadata": {},
   "outputs": [
    {
     "data": {
      "text/plain": [
       "deque(['i', 'l', 'o', 'v', 'e', 'y', 'o', 'u'])"
      ]
     },
     "execution_count": 34,
     "metadata": {},
     "output_type": "execute_result"
    }
   ],
   "source": [
    "#deque 확장하기 extend() extendleft\n",
    "dq = deque('love')\n",
    "dq.extend('you')\n",
    "dq.extendleft('i')\n",
    "dq"
   ]
  },
  {
   "cell_type": "code",
   "execution_count": 36,
   "id": "731f9f12",
   "metadata": {},
   "outputs": [
    {
     "data": {
      "text/plain": [
       "deque(['i', 'l', 'o', 'v', 'e', 'y', 'o', 'u'])"
      ]
     },
     "execution_count": 36,
     "metadata": {},
     "output_type": "execute_result"
    }
   ],
   "source": [
    "#리스트처럼 사용\n",
    "dq\n"
   ]
  }
 ],
 "metadata": {
  "kernelspec": {
   "display_name": "Python 3 (ipykernel)",
   "language": "python",
   "name": "python3"
  },
  "language_info": {
   "codemirror_mode": {
    "name": "ipython",
    "version": 3
   },
   "file_extension": ".py",
   "mimetype": "text/x-python",
   "name": "python",
   "nbconvert_exporter": "python",
   "pygments_lexer": "ipython3",
   "version": "3.8.3"
  }
 },
 "nbformat": 4,
 "nbformat_minor": 5
}
