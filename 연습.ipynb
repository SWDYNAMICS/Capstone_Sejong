{
 "cells": [
  {
   "cell_type": "code",
   "execution_count": 1,
   "metadata": {},
   "outputs": [
    {
     "name": "stdout",
     "output_type": "stream",
     "text": [
      "<class 'int'>\n",
      "<class 'int'>\n",
      "<class 'str'>\n",
      "<class 'bool'>\n",
      "<class 'list'>\n",
      "<class 'tuple'>\n",
      "<class 'dict'>\n"
     ]
    }
   ],
   "source": []
  },
  {
   "cell_type": "code",
   "execution_count": 6,
   "metadata": {},
   "outputs": [
    {
     "name": "stdout",
     "output_type": "stream",
     "text": [
      "숫자는:1\n",
      "오늘 짜장면 1 그릇 팔렸습니다.\n",
      "오늘 짜장면 1그릇 팔렸습니다.\n",
      "오늘 짜장면 1그릇 팔렸습니다.\n"
     ]
    }
   ],
   "source": [
    "var3 = int(input(\"숫자는:\"))\n",
    "\n",
    "print(\"오늘 짜장면 %s 그릇 팔렸습니다.\" %var3)\n",
    "print(\"오늘 짜장면 {0}그릇 팔렸습니다.\" .format(var3))\n",
    "print(f\"오늘 짜장면 {var3}그릇 팔렸습니다.\")"
   ]
  },
  {
   "cell_type": "code",
   "execution_count": 1,
   "metadata": {},
   "outputs": [
    {
     "name": "stdout",
     "output_type": "stream",
     "text": [
      "결과는 : 3\n"
     ]
    }
   ],
   "source": [
    "import math\n",
    "print(\"결과는 :\",int(math.sqrt(12)))"
   ]
  },
  {
   "cell_type": "code",
   "execution_count": 1,
   "metadata": {},
   "outputs": [
    {
     "name": "stdout",
     "output_type": "stream",
     "text": [
      "파\n",
      "파이완\n"
     ]
    }
   ],
   "source": [
    "str1 = \"파이완전쉽죠\"\n",
    "print(str1[0])\n",
    "print(str1[:3])"
   ]
  },
  {
   "cell_type": "code",
   "execution_count": 18,
   "metadata": {},
   "outputs": [
    {
     "name": "stdout",
     "output_type": "stream",
     "text": [
      "['손', '김', '황', 3, 5]\n",
      "<class 'list'>\n",
      "['손', '김', '황', 3, 5, 7]\n"
     ]
    }
   ],
   "source": [
    "lst1 = ['손','김','황',3,5]\n",
    "print(lst1)\n",
    "print(type(lst1))\n",
    "lst1.append(7)\n",
    "print(lst1)\n"
   ]
  },
  {
   "cell_type": "code",
   "execution_count": 19,
   "metadata": {},
   "outputs": [
    {
     "name": "stdout",
     "output_type": "stream",
     "text": [
      "손\n",
      "김\n",
      "황\n",
      "3\n",
      "5\n",
      "7\n"
     ]
    }
   ],
   "source": [
    "for i in lst1:\n",
    "    print(i)"
   ]
  },
  {
   "cell_type": "code",
   "execution_count": 22,
   "metadata": {},
   "outputs": [
    {
     "name": "stdout",
     "output_type": "stream",
     "text": [
      "1\n",
      "2\n",
      "3\n",
      "4\n",
      "5\n"
     ]
    }
   ],
   "source": [
    "for i in range(1,6):\n",
    "    print(i)"
   ]
  },
  {
   "cell_type": "code",
   "execution_count": 23,
   "metadata": {},
   "outputs": [
    {
     "name": "stdout",
     "output_type": "stream",
     "text": [
      "0\n",
      "1\n",
      "2\n",
      "3\n",
      "4\n"
     ]
    }
   ],
   "source": [
    "no1 = 0 #변수 초기화\n",
    "while no1 < 5:\n",
    "    print(no1)\n",
    "    no1 += 1\n"
   ]
  },
  {
   "cell_type": "code",
   "execution_count": 27,
   "metadata": {},
   "outputs": [
    {
     "name": "stdout",
     "output_type": "stream",
     "text": [
      "0\n"
     ]
    }
   ],
   "source": [
    "print(sum(range(0+1)))"
   ]
  },
  {
   "cell_type": "code",
   "execution_count": 31,
   "metadata": {},
   "outputs": [],
   "source": [
    "def plus(x,y):\n",
    "    result = print(f\"{x} + {y} = {x+y}\")\n",
    "    return result\n",
    "\n",
    "def times(x,y):\n",
    "    result = print(f\"{x} * {y} = {x*y}\")\n",
    "    return result"
   ]
  },
  {
   "cell_type": "code",
   "execution_count": 32,
   "metadata": {},
   "outputs": [
    {
     "name": "stdout",
     "output_type": "stream",
     "text": [
      "a =3\n",
      "b =1\n",
      "3 + 1 = 4\n"
     ]
    }
   ],
   "source": [
    "a = int(input(\"a = \"))\n",
    "b = int(input(\"b = \"))\n",
    "plus(a,b)"
   ]
  },
  {
   "cell_type": "code",
   "execution_count": 38,
   "metadata": {},
   "outputs": [
    {
     "name": "stdout",
     "output_type": "stream",
     "text": [
      "숫자 : 13\n",
      "13\n"
     ]
    }
   ],
   "source": [
    "#예외상황\n",
    "\n",
    "try:\n",
    "    no6 = int(input(\"숫자 : \"))\n",
    "except ValueError:\n",
    "    print(\"숫자를 입력하라니까?\")\n",
    "else:\n",
    "    print(no6)"
   ]
  },
  {
   "cell_type": "code",
   "execution_count": null,
   "metadata": {},
   "outputs": [],
   "source": []
  },
  {
   "cell_type": "code",
   "execution_count": null,
   "metadata": {},
   "outputs": [],
   "source": []
  },
  {
   "cell_type": "code",
   "execution_count": null,
   "metadata": {},
   "outputs": [],
   "source": []
  }
 ],
 "metadata": {
  "interpreter": {
   "hash": "68792dff4ade1fccbe786d504da86667866599a2e215c2aca9e1bff60c3d2766"
  },
  "kernelspec": {
   "display_name": "Python 3.8.3 64-bit (system)",
   "name": "python3"
  },
  "language_info": {
   "codemirror_mode": {
    "name": "ipython",
    "version": 3
   },
   "file_extension": ".py",
   "mimetype": "text/x-python",
   "name": "python",
   "nbconvert_exporter": "python",
   "pygments_lexer": "ipython3",
   "version": "3.8.3"
  }
 },
 "nbformat": 4,
 "nbformat_minor": 5
}
