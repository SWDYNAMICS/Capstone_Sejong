{
 "cells": [
  {
   "cell_type": "code",
   "execution_count": 6,
   "id": "c261cf7f",
   "metadata": {},
   "outputs": [
    {
     "name": "stdout",
     "output_type": "stream",
     "text": [
      "m=6\n"
     ]
    }
   ],
   "source": [
    "def max3(a,b,c):\n",
    "    maximum = a\n",
    "    if b > maximum: maximum = b\n",
    "    if c > maximum: maximum = c\n",
    "    print(f\"m={maximum}\")\n",
    "max3(5,5,6)"
   ]
  },
  {
   "cell_type": "code",
   "execution_count": 9,
   "id": "68bcdbda",
   "metadata": {},
   "outputs": [
    {
     "name": "stdout",
     "output_type": "stream",
     "text": [
      "a:1\n",
      "b:7\n",
      "c:7\n",
      "중앙값은 7이다.\n"
     ]
    }
   ],
   "source": [
    "def mid(a,b,c):\n",
    "    if a >= b:\n",
    "        if b >= c:\n",
    "            return b\n",
    "        elif a <= c:\n",
    "            return a\n",
    "        else:\n",
    "            return c\n",
    "    elif a > c:\n",
    "        return a\n",
    "    elif b < c:\n",
    "        return b\n",
    "    else:\n",
    "        return c\n",
    "a = input('a:')\n",
    "b = input('b:')\n",
    "c = input('c:')\n",
    "\n",
    "print(f'중앙값은 {mid(a,b,c)}이다.')"
   ]
  }
 ],
 "metadata": {
  "kernelspec": {
   "display_name": "Python 3 (ipykernel)",
   "language": "python",
   "name": "python3"
  },
  "language_info": {
   "codemirror_mode": {
    "name": "ipython",
    "version": 3
   },
   "file_extension": ".py",
   "mimetype": "text/x-python",
   "name": "python",
   "nbconvert_exporter": "python",
   "pygments_lexer": "ipython3",
   "version": "3.8.3"
  }
 },
 "nbformat": 4,
 "nbformat_minor": 5
}
