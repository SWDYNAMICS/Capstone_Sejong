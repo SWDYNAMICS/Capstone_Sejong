{
 "cells": [
  {
   "cell_type": "code",
   "execution_count": 6,
   "id": "c261cf7f",
   "metadata": {},
   "outputs": [
    {
     "name": "stdout",
     "output_type": "stream",
     "text": [
      "m=6\n"
     ]
    }
   ],
   "source": [
    "def max3(a,b,c):\n",
    "    maximum = a\n",
    "    if b > maximum: maximum = b\n",
    "    if c > maximum: maximum = c\n",
    "    print(f\"m={maximum}\")\n",
    "max3(5,5,6)"
   ]
  },
  {
   "cell_type": "code",
   "execution_count": 1,
   "id": "68bcdbda",
   "metadata": {},
   "outputs": [
    {
     "name": "stdout",
     "output_type": "stream",
     "text": [
      "중앙값은 1이다.\n"
     ]
    }
   ],
   "source": [
    "def mid(a,b,c):\n",
    "    if a >= b:\n",
    "        if b >= c:\n",
    "            return b\n",
    "        elif a <= c:\n",
    "            return a\n",
    "        else:\n",
    "            return c\n",
    "    elif a > c:\n",
    "        return a\n",
    "    elif b < c:\n",
    "        return b\n",
    "    else:\n",
    "        return c\n",
    "a = input('a:')\n",
    "b = input('b:')\n",
    "c = input('c:')\n",
    "\n",
    "print(f'중앙값은 {mid(a,b,c)}이다.')"
   ]
  },
  {
   "cell_type": "code",
   "execution_count": 11,
   "id": "dc860357",
   "metadata": {},
   "outputs": [
    {
     "name": "stdout",
     "output_type": "stream",
     "text": [
      "1 node:A ,v= ['A'] q= ['B']\n",
      "2 node:B ,v= ['A', 'B'] q= ['A', 'C', 'H']\n",
      "4 node:C ,v= ['A', 'B', 'C'] q= ['H', 'B', 'D']\n",
      "5 node:H ,v= ['A', 'B', 'C', 'H'] q= ['B', 'D', 'B', 'I', 'J', 'M']\n",
      "7 node:D ,v= ['A', 'B', 'C', 'H', 'D'] q= ['B', 'I', 'J', 'M', 'C', 'E', 'G']\n",
      "9 node:I ,v= ['A', 'B', 'C', 'H', 'D', 'I'] q= ['J', 'M', 'C', 'E', 'G', 'H']\n",
      "10 node:J ,v= ['A', 'B', 'C', 'H', 'D', 'I', 'J'] q= ['M', 'C', 'E', 'G', 'H', 'H', 'K']\n",
      "11 node:M ,v= ['A', 'B', 'C', 'H', 'D', 'I', 'J', 'M'] q= ['C', 'E', 'G', 'H', 'H', 'K', 'H']\n",
      "13 node:E ,v= ['A', 'B', 'C', 'H', 'D', 'I', 'J', 'M', 'E'] q= ['G', 'H', 'H', 'K', 'H', 'D', 'F']\n",
      "14 node:G ,v= ['A', 'B', 'C', 'H', 'D', 'I', 'J', 'M', 'E', 'G'] q= ['H', 'H', 'K', 'H', 'D', 'F', 'D']\n",
      "17 node:K ,v= ['A', 'B', 'C', 'H', 'D', 'I', 'J', 'M', 'E', 'G', 'K'] q= ['H', 'D', 'F', 'D', 'J', 'L']\n",
      "20 node:F ,v= ['A', 'B', 'C', 'H', 'D', 'I', 'J', 'M', 'E', 'G', 'K', 'F'] q= ['D', 'J', 'L', 'E']\n",
      "23 node:L ,v= ['A', 'B', 'C', 'H', 'D', 'I', 'J', 'M', 'E', 'G', 'K', 'F', 'L'] q= ['E', 'K']\n"
     ]
    },
    {
     "data": {
      "text/plain": [
       "['A', 'B', 'C', 'H', 'D', 'I', 'J', 'M', 'E', 'G', 'K', 'F', 'L']"
      ]
     },
     "execution_count": 11,
     "metadata": {},
     "output_type": "execute_result"
    }
   ],
   "source": [
    "def Bfs(graph,startnode):\n",
    "    visit = list()\n",
    "    queue = list()\n",
    "    iter = 1\n",
    "    queue.append(startnode)\n",
    "    \n",
    "    while queue:\n",
    "        node = queue.pop(0)\n",
    "        if node not in visit:\n",
    "            visit.append(node)\n",
    "            queue.extend(graph[node])\n",
    "            print(iter,f'node:{node}',',v=',visit,'q=',queue)\n",
    "        iter = iter + 1\n",
    "        \n",
    "    return visit \n",
    "def Dfs(graph,startnode):\n",
    "    visit = list()\n",
    "    stack = list()\n",
    "    stack.append(startnode)\n",
    "\n",
    "    while stack:\n",
    "        node = stack.pop()\n",
    "        if node not in visit:\n",
    "            visit.append(node)\n",
    "            stack.append(graph[node])\n",
    "    return visit\n",
    "if __name__ =='__main__':\n",
    "    graph = {\n",
    "        'A': ['B'],\n",
    "        'B': ['A', 'C', 'H'],\n",
    "        'C': ['B', 'D'],\n",
    "        'D': ['C', 'E', 'G'],\n",
    "        'E': ['D', 'F'],\n",
    "        'F': ['E'],\n",
    "        'G': ['D'],\n",
    "        'H': ['B', 'I', 'J', 'M'],\n",
    "        'I': ['H'],\n",
    "        'J': ['H', 'K'],\n",
    "        'K': ['J', 'L'],\n",
    "        'L': ['K'],\n",
    "        'M': ['H']\n",
    "    }\n",
    "\n",
    "Bfs(graph,'A')\n",
    "# print(Dfs(graph,'A'))\n",
    "\n",
    "    "
   ]
  },
  {
   "cell_type": "markdown",
   "id": "dd46d121",
   "metadata": {},
   "source": []
  }
 ],
 "metadata": {
  "kernelspec": {
   "display_name": "Python 3 (ipykernel)",
   "language": "python",
   "name": "python3"
  },
  "language_info": {
   "codemirror_mode": {
    "name": "ipython",
    "version": 3
   },
   "file_extension": ".py",
   "mimetype": "text/x-python",
   "name": "python",
   "nbconvert_exporter": "python",
   "pygments_lexer": "ipython3",
   "version": "3.8.3"
  }
 },
 "nbformat": 4,
 "nbformat_minor": 5
}
