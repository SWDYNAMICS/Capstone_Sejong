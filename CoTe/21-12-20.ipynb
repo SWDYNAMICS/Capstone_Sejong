{
 "cells": [
  {
   "cell_type": "code",
   "execution_count": 4,
   "id": "83cba711",
   "metadata": {},
   "outputs": [
    {
     "name": "stdout",
     "output_type": "stream",
     "text": [
      "int value input:3\n",
      "int value input:2\n",
      "greater num 3\n",
      "c는 0아님\n"
     ]
    }
   ],
   "source": [
    "x = int(input('int value input:'))\n",
    "y = int(input('int value input:'))\n",
    "\n",
    "a = x if x > y else y\n",
    "print('greater num',a)\n",
    "\n",
    "c=1\n",
    "print('c는 0'if c==0 else 'c는 0아님')"
   ]
  },
  {
   "cell_type": "code",
   "execution_count": 6,
   "id": "805f53e5",
   "metadata": {},
   "outputs": [
    {
     "name": "stdout",
     "output_type": "stream",
     "text": [
      "어디까지 셀꺼임3\n",
      "1부터 3까지의 합은 6\n"
     ]
    }
   ],
   "source": [
    "n = int(input('어디까지 셀꺼임'))\n",
    "\n",
    "sum = 0\n",
    "i = 1\n",
    "\n",
    "while i<=n:\n",
    "    sum +=i\n",
    "    i +=1\n",
    "    \n",
    "print(f'1부터 {n}까지의 합은 {sum}')"
   ]
  }
 ],
 "metadata": {
  "kernelspec": {
   "display_name": "Python 3 (ipykernel)",
   "language": "python",
   "name": "python3"
  },
  "language_info": {
   "codemirror_mode": {
    "name": "ipython",
    "version": 3
   },
   "file_extension": ".py",
   "mimetype": "text/x-python",
   "name": "python",
   "nbconvert_exporter": "python",
   "pygments_lexer": "ipython3",
   "version": "3.8.3"
  }
 },
 "nbformat": 4,
 "nbformat_minor": 5
}
