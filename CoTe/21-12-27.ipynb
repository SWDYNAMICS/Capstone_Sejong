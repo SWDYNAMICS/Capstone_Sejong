{
 "cells": [
  {
   "cell_type": "code",
   "execution_count": 8,
   "id": "4ecc159d",
   "metadata": {},
   "outputs": [
    {
     "name": "stdout",
     "output_type": "stream",
     "text": [
      "a:1\n",
      "b:3\n",
      "1 +2 +3 =6\n"
     ]
    }
   ],
   "source": [
    "a = int(input('a:'))\n",
    "b = int(input('b:'))\n",
    "\n",
    "if a > b:\n",
    "    a,b =b,a\n",
    "\n",
    "sum = 0\n",
    "\n",
    "for _ in range(a,b+1):\n",
    "    if _ >= b:\n",
    "        print(f'{_} =',end='')\n",
    "    elif _ < b:\n",
    "        print(f'{_} +',end='')\n",
    "    sum += _\n",
    "    \n",
    "print(sum)"
   ]
  },
  {
   "cell_type": "code",
   "execution_count": 20,
   "id": "653c4f95",
   "metadata": {},
   "outputs": [
    {
     "name": "stdout",
     "output_type": "stream",
     "text": [
      "x 출력\n",
      "n:3\n",
      "w개마다 줄바꿈:4\n",
      "xxx"
     ]
    }
   ],
   "source": [
    "print('x 출력')\n",
    "\n",
    "n = int(input('n:'))\n",
    "w = int(input('w개마다 줄바꿈:'))\n",
    "\n",
    "for i in range(n):\n",
    "    print('x',end='')\n",
    "    if i%w == w-1:\n",
    "        print()"
   ]
  },
  {
   "cell_type": "code",
   "execution_count": 24,
   "id": "f2f3fa47",
   "metadata": {},
   "outputs": [
    {
     "name": "stdout",
     "output_type": "stream",
     "text": [
      "x 출력\n",
      "n:2\n",
      "w개마다 줄바꿈:2\n",
      "xx\n"
     ]
    }
   ],
   "source": [
    "print('x 출력')\n",
    "\n",
    "n = int(input('n:'))\n",
    "w = int(input('w개마다 줄바꿈:'))\n",
    "\n",
    "for i in range(n//w):\n",
    "    print('x'*w)\n",
    "    \n",
    "rest = n%w\n",
    "if rest:\n",
    "    print('x'*rest)"
   ]
  },
  {
   "cell_type": "code",
   "execution_count": 39,
   "id": "70bd8b41",
   "metadata": {},
   "outputs": [
    {
     "name": "stdout",
     "output_type": "stream",
     "text": [
      "number of random num:13\n",
      " 99 73 39 51 98\n",
      " 59 25 61 41 11\n",
      " 76 81 57printing random number fishish\n"
     ]
    }
   ],
   "source": [
    "import random\n",
    "\n",
    "n = int(input('number of random num:'))\n",
    "for i in range(n):\n",
    "    r = random.randint(10,99)\n",
    "    print(f'{r:3}',end='')\n",
    "    if r == 13:\n",
    "        print('13, program shut down')\n",
    "        break\n",
    "    if not (i+1)%5:\n",
    "        print()\n",
    "        \n",
    "else:\n",
    "    print('printing random number finish')"
   ]
  },
  {
   "cell_type": "code",
   "execution_count": 47,
   "id": "f3a33183",
   "metadata": {},
   "outputs": [
    {
     "name": "stdout",
     "output_type": "stream",
     "text": [
      "140709288548512\n",
      "140709288548512\n",
      "140709288548512\n",
      "140709288548480\n"
     ]
    }
   ],
   "source": [
    "n = 17\n",
    "m = 17\n",
    "s = 17\n",
    "print(id(n))\n",
    "print(id(m))\n",
    "print(id(s))\n",
    "print(id(16))"
   ]
  },
  {
   "cell_type": "code",
   "execution_count": 49,
   "id": "6fb0dee3",
   "metadata": {},
   "outputs": [
    {
     "data": {
      "text/plain": [
       "(1, 2, 3, 1)"
      ]
     },
     "execution_count": 49,
     "metadata": {},
     "output_type": "execute_result"
    }
   ],
   "source": [
    "x = [1,2,3,1]\n",
    "a,b,c,d = x\n",
    "a,b,c,d"
   ]
  },
  {
   "cell_type": "code",
   "execution_count": 50,
   "id": "bfa4bfc5",
   "metadata": {},
   "outputs": [
    {
     "data": {
      "text/plain": [
       "[1, 2, 3, 1]"
      ]
     },
     "execution_count": 50,
     "metadata": {},
     "output_type": "execute_result"
    }
   ],
   "source": []
  }
 ],
 "metadata": {
  "kernelspec": {
   "display_name": "Python 3 (ipykernel)",
   "language": "python",
   "name": "python3"
  },
  "language_info": {
   "codemirror_mode": {
    "name": "ipython",
    "version": 3
   },
   "file_extension": ".py",
   "mimetype": "text/x-python",
   "name": "python",
   "nbconvert_exporter": "python",
   "pygments_lexer": "ipython3",
   "version": "3.8.3"
  }
 },
 "nbformat": 4,
 "nbformat_minor": 5
}
