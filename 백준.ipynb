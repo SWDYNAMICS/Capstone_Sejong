{
 "cells": [
  {
   "cell_type": "code",
   "execution_count": null,
   "id": "be8389f6",
   "metadata": {},
   "outputs": [],
   "source": [
    "#11721\n",
    "string = str(input())\n",
    "line = ''\n",
    "for i in range(len(string)):\n",
    "    line += string[i] \n",
    "    if len(line)%10 == 0 or i == len(string)-1:\n",
    "        print(line)\n",
    "        line =''"
   ]
  },
  {
   "cell_type": "code",
   "execution_count": null,
   "id": "46736a29",
   "metadata": {},
   "outputs": [],
   "source": [
    "#11721\n",
    "string = str(input())\n",
    "while len(string) > 0:\n",
    "    print(string[:10])\n",
    "    string = string[10:]"
   ]
  },
  {
   "cell_type": "code",
   "execution_count": null,
   "id": "5e8da0a1",
   "metadata": {},
   "outputs": [
    {
     "name": "stdout",
     "output_type": "stream",
     "text": [
      "1 2\n",
      "asdf\n",
      "fdsa\n",
      "asdf\n",
      "1\n",
      "asdf\n"
     ]
    }
   ],
   "source": [
    "N,M = map(int,input().split())\n",
    "\n",
    "dbj_name = set()\n",
    "N_name = set()\n",
    "\n",
    "for i in range(N):\n",
    "    N_str = str(input())\n",
    "    N_name.add(N_str)\n",
    "\n",
    "for j in range(M):\n",
    "    M_str = str(input())\n",
    "    if M_str in N_name:\n",
    "        dbj_name.add(M_str)\n",
    "\n",
    "dbj_name = sorted(dbj_name)\n",
    "print(len(dbj_name))\n",
    "for name in dbj_name:\n",
    "    print(name)\n",
    "    "
   ]
  },
  {
   "cell_type": "code",
   "execution_count": null,
   "id": "4599bcdf",
   "metadata": {},
   "outputs": [],
   "source": [
    "#1157\n",
    "#중복값을 제거\n",
    "#count 숫자 최대값이 중복되면\n",
    "#숫자 최대값 인덱스\n",
    "words = input().upper()\n",
    "unique_words = list(set(words))\n",
    "cnt_list = []\n",
    "for x in unique_words:\n",
    "    cnt=words.count(x)\n",
    "    cnt_list.append(cnt)\n",
    "\n",
    "if cnt_list.count(max(cnt_list))>1:\n",
    "    print('?')\n",
    "else:\n",
    "    print(unique_words[cnt_list.index(max(cnt_list))])"
   ]
  },
  {
   "cell_type": "code",
   "execution_count": null,
   "id": "82e4a8bd",
   "metadata": {},
   "outputs": [
    {
     "name": "stdout",
     "output_type": "stream",
     "text": [
      "1\n",
      "aabbaff\n",
      "0\n"
     ]
    }
   ],
   "source": [
    "# 1316 내가한거\n",
    "N = int(input())\n",
    "string= []\n",
    "cnt = 0\n",
    "check_str = ''\n",
    "for i in range(N):\n",
    "    checker = set() \n",
    "    x = str(input())\n",
    "    string.append(x)\n",
    "    for st in list(string[i]): #전에 저장시킨 문자열이 다시나오면 pass 다시 안나오면 cnt++\n",
    "        if st not in checker:\n",
    "            checker.add(st) #asdfa 에서 a 저장\n",
    "        elif st in checker: #다시 a가 입력 되었을 때 이전 글자가 a 면 pass a가 아니면 break\n",
    "            if st == checker_str: # 전글자 비교\n",
    "                pass\n",
    "            else:\n",
    "                cnt += -1\n",
    "                break\n",
    "                \n",
    "        checker_str = st#전글자\n",
    "    cnt += 1\n",
    "        \n",
    "print(cnt)"
   ]
  },
  {
   "cell_type": "code",
   "execution_count": null,
   "id": "891e8a56",
   "metadata": {},
   "outputs": [
    {
     "name": "stdout",
     "output_type": "stream",
     "text": [
      "3\n",
      "asdfqq\n",
      "asdfqq\n",
      "zdz\n",
      "2\n"
     ]
    }
   ],
   "source": [
    "n = int(input())\n",
    "checker_str = ''\n",
    "cnt = n\n",
    "for i in range(n):\n",
    "    words = input()#\n",
    "    checker = set()#\n",
    "    for j in range(len(words)):#\n",
    "        if words[j] == checker_str:\n",
    "            pass\n",
    "        elif words[j] != checker_str:\n",
    "            if words[j] in checker:\n",
    "                cnt -= 1\n",
    "                break\n",
    "        checker_str = words[j]\n",
    "        checker.add(words[j])\n",
    "\n",
    "print(cnt) \n"
   ]
  },
  {
   "cell_type": "code",
   "execution_count": null,
   "id": "541accb9",
   "metadata": {},
   "outputs": [
    {
     "name": "stdout",
     "output_type": "stream",
     "text": [
      "a\n"
     ]
    }
   ],
   "source": [
    "words = 'iamground'\n",
    "print(words[1])"
   ]
  },
  {
   "cell_type": "code",
   "execution_count": null,
   "id": "17476927",
   "metadata": {},
   "outputs": [
    {
     "name": "stdout",
     "output_type": "stream",
     "text": [
      "2\n",
      "asdff\n",
      "asdffq\n",
      "2\n"
     ]
    }
   ],
   "source": [
    "#1316 다른 사람 코드 참고한거\n",
    "n = int(input())\n",
    "result = n\n",
    "for i in range(n):\n",
    "    words = input()\n",
    "    for j in range(len(words)-1):\n",
    "        if words[j] == words[j+1]:\n",
    "            pass\n",
    "        elif words[j] in words[j+1:]:\n",
    "            result -= 1\n",
    "            break\n",
    "            \n",
    "print(result)"
   ]
  },
  {
   "cell_type": "code",
   "execution_count": null,
   "id": "2275b578",
   "metadata": {},
   "outputs": [
    {
     "name": "stdout",
     "output_type": "stream",
     "text": [
      "5\n",
      "3 1 2 5 3\n",
      "33\n"
     ]
    }
   ],
   "source": [
    "# 백준 11399번 atm\n",
    "N = int(input())\n",
    "spend = list(map(int,input().split()))\n",
    "task = 0\n",
    "spend = sorted(spend)\n",
    "for i in range(N):\n",
    "    task += sum(spend[0:i+1])\n",
    "\n",
    "print(task)"
   ]
  },
  {
   "cell_type": "code",
   "execution_count": null,
   "id": "fbfb2cbb",
   "metadata": {
    "scrolled": true
   },
   "outputs": [
    {
     "name": "stdout",
     "output_type": "stream",
     "text": [
      "1\n",
      "1\n"
     ]
    },
    {
     "data": {
      "text/plain": [
       "1"
      ]
     },
     "execution_count": 70,
     "metadata": {},
     "output_type": "execute_result"
    }
   ],
   "source": [
    "# 백준 11399 다른사람\n",
    "n = int(input())\n",
    "arr = list(map(int,input().split()))\n",
    "arr.sort()\n",
    "\n",
    "for i in range(1,n): # 1이상 5미만까지 반복\n",
    "    arr[i] += arr[i-1]\n",
    "\n",
    "sum(arr)"
   ]
  },
  {
   "cell_type": "markdown",
   "id": "94606230",
   "metadata": {},
   "source": [
    "# 10870 피보나치\n",
    "n = int(input())\n",
    "\n",
    "arr = [0,1]\n",
    "for i in range(2,n+1):\n",
    "    num = arr[i-1] + arr[i-2]\n",
    "    arr.append(num)\n",
    "print(arr[n])"
   ]
  },
  {
   "cell_type": "code",
   "execution_count": 1,
   "id": "1a435eb0",
   "metadata": {},
   "outputs": [],
   "source": [
    "s = [input() for i in range(5)]\n",
    "print(len(s))\n",
    "max_length = 0\n",
    "if max_length < len(s):\n",
    "    max_length = len(s)\n",
    "\n",
    "\n",
    "for i in range(max_length):\n",
    "    for j in range(len(s)):\n",
    "        if i >= len(s[j]):\n",
    "            continue\n",
    "        else:\n",
    "            print(s[j][i],end='')\n",
    "            "
   ]
  },
  {
   "cell_type": "code",
   "execution_count": null,
   "id": "fb824967",
   "metadata": {
    "scrolled": true
   },
   "outputs": [
    {
     "name": "stdout",
     "output_type": "stream",
     "text": [
      "1\n",
      "7\n",
      "44\n"
     ]
    }
   ],
   "source": [
    "#DP_9095\n",
    "T = int(input())\n",
    "\n",
    "def sol(n):\n",
    "    if n==1:\n",
    "        return 1\n",
    "    elif n==2:\n",
    "        return 2\n",
    "    elif n==3:\n",
    "        return 4\n",
    "    else:\n",
    "        return sol(n-3) + sol(n-2) + sol(n-1)\n",
    "\n",
    "for i in range(T):\n",
    "    n = int(input())\n",
    "    print(sol(n))"
   ]
  },
  {
   "cell_type": "code",
   "execution_count": 1,
   "id": "224a6505",
   "metadata": {},
   "outputs": [
    {
     "ename": "ValueError",
     "evalue": "invalid literal for int() with base 10: ''",
     "output_type": "error",
     "traceback": [
      "\u001b[1;31m---------------------------------------------------------------------------\u001b[0m",
      "\u001b[1;31mValueError\u001b[0m                                Traceback (most recent call last)",
      "\u001b[1;32m~\\AppData\\Local\\Temp/ipykernel_11116/1465163969.py\u001b[0m in \u001b[0;36m<module>\u001b[1;34m\u001b[0m\n\u001b[0;32m      1\u001b[0m \u001b[1;31m#DP_1932 https://www.acmicpc.net/problem/1932\u001b[0m\u001b[1;33m\u001b[0m\u001b[1;33m\u001b[0m\u001b[1;33m\u001b[0m\u001b[0m\n\u001b[1;32m----> 2\u001b[1;33m \u001b[0mn\u001b[0m\u001b[1;33m=\u001b[0m\u001b[0mint\u001b[0m\u001b[1;33m(\u001b[0m\u001b[0minput\u001b[0m\u001b[1;33m(\u001b[0m\u001b[1;33m)\u001b[0m\u001b[1;33m)\u001b[0m\u001b[1;33m\u001b[0m\u001b[1;33m\u001b[0m\u001b[0m\n\u001b[0m\u001b[0;32m      3\u001b[0m \u001b[0md\u001b[0m\u001b[1;33m=\u001b[0m\u001b[1;33m[\u001b[0m\u001b[1;33m]\u001b[0m\u001b[1;33m\u001b[0m\u001b[1;33m\u001b[0m\u001b[0m\n\u001b[0;32m      4\u001b[0m \u001b[1;32mfor\u001b[0m \u001b[0mi\u001b[0m \u001b[1;32min\u001b[0m \u001b[0mrange\u001b[0m\u001b[1;33m(\u001b[0m\u001b[0mn\u001b[0m\u001b[1;33m)\u001b[0m\u001b[1;33m:\u001b[0m\u001b[1;33m\u001b[0m\u001b[1;33m\u001b[0m\u001b[0m\n\u001b[0;32m      5\u001b[0m   \u001b[0md\u001b[0m\u001b[1;33m.\u001b[0m\u001b[0mappend\u001b[0m\u001b[1;33m(\u001b[0m\u001b[0mlist\u001b[0m\u001b[1;33m(\u001b[0m\u001b[0mmap\u001b[0m\u001b[1;33m(\u001b[0m\u001b[0mint\u001b[0m\u001b[1;33m,\u001b[0m \u001b[0minput\u001b[0m\u001b[1;33m(\u001b[0m\u001b[1;33m)\u001b[0m\u001b[1;33m.\u001b[0m\u001b[0msplit\u001b[0m\u001b[1;33m(\u001b[0m\u001b[1;33m)\u001b[0m\u001b[1;33m)\u001b[0m\u001b[1;33m)\u001b[0m\u001b[1;33m)\u001b[0m\u001b[1;33m\u001b[0m\u001b[1;33m\u001b[0m\u001b[0m\n",
      "\u001b[1;31mValueError\u001b[0m: invalid literal for int() with base 10: ''"
     ]
    }
   ],
   "source": [
    "#DP_1932 https://www.acmicpc.net/problem/1932\n",
    "n=int(input())\n",
    "d=[]\n",
    "for i in range(n):\n",
    "  d.append(list(map(int, input().split())))\n",
    "\n",
    "for i in range(3):\n",
    "    print(d[i][0])\n"
   ]
  },
  {
   "cell_type": "code",
   "execution_count": null,
   "id": "0ccdd222",
   "metadata": {},
   "outputs": [
    {
     "name": "stdout",
     "output_type": "stream",
     "text": [
      "1\n",
      "3\n",
      "1\n"
     ]
    }
   ],
   "source": [
    "dist = [1,3,1]\n",
    "for dis in dist:\n",
    "    print(dis)"
   ]
  }
 ],
 "metadata": {
  "interpreter": {
   "hash": "68792dff4ade1fccbe786d504da86667866599a2e215c2aca9e1bff60c3d2766"
  },
  "kernelspec": {
   "display_name": "Python 3 (ipykernel)",
   "language": "python",
   "name": "python3"
  },
  "language_info": {
   "codemirror_mode": {
    "name": "ipython",
    "version": 3
   },
   "file_extension": ".py",
   "mimetype": "text/x-python",
   "name": "python",
   "nbconvert_exporter": "python",
   "pygments_lexer": "ipython3",
   "version": "3.8.3"
  }
 },
 "nbformat": 4,
 "nbformat_minor": 5
}
